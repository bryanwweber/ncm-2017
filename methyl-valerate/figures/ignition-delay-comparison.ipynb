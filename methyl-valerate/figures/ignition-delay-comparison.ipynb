{
 "cells": [
  {
   "cell_type": "code",
   "execution_count": 1,
   "metadata": {
    "collapsed": true
   },
   "outputs": [],
   "source": [
    "import gspread\n",
    "from oauth2client.service_account import ServiceAccountCredentials\n",
    "import numpy as np\n",
    "import pandas as pd\n",
    "import matplotlib.pyplot as plt\n",
    "from matplotlib.ticker import FormatStrFormatter\n",
    "from palettable.tableau import Tableau_10\n",
    "from cycler import cycler"
   ]
  },
  {
   "cell_type": "code",
   "execution_count": 3,
   "metadata": {
    "collapsed": false
   },
   "outputs": [],
   "source": [
    "scale = 3\n",
    "almost_black = '#262626'\n",
    "plt.rc('lines', linestyle=None, markeredgewidth=0.15)\n",
    "plt.rc('axes', prop_cycle=cycler(color=Tableau_10.mpl_colors),\n",
    "       labelsize=9*scale, edgecolor=almost_black)\n",
    "markers = ['o', 's', 'd', '^', 'x', '+', 'v', '<', '>', '*']\n",
    "assert len(markers) == len(Tableau_10.mpl_colors)\n",
    "def mfunc(syms):\n",
    "    while True:\n",
    "        for s in syms:\n",
    "            yield s\n",
    "plt.rc('xtick', labelsize=9*scale)\n",
    "plt.rc('ytick', labelsize=9*scale)\n",
    "plt.rc('legend', fontsize=8*scale)\n",
    "plt.rc('font', family='serif', serif=\"Times New Roman\", size=9*scale)\n",
    "plt.rc('text', color=almost_black)\n",
    "plt.rc('mathtext', fontset='stix')\n",
    "plt.rc('xtick.major', size=10, width=1)\n",
    "plt.rc('xtick.minor', size=5, width=1)\n",
    "plt.rc('ytick.major', size=10, width=1)\n",
    "plt.rc('ytick.minor', size=5, width=1)\n",
    "plt.rc('figure', dpi=300, autolayout=True)"
   ]
  },
  {
   "cell_type": "code",
   "execution_count": 4,
   "metadata": {
    "collapsed": true
   },
   "outputs": [],
   "source": [
    "scope = ['https://spreadsheets.google.com/feeds']\n",
    "credentials = ServiceAccountCredentials.from_json_keyfile_name('methyl-valerate-78135e2c2c7c.json',\n",
    "                                                               scope)\n",
    "gc = gspread.authorize(credentials)\n",
    "ws = gc.open_by_key('1UFdGzEyx7PsKprPybi-lkbuWYS8BAS-cBm2IKSKY-UA').sheet1\n",
    "recs = ws.get_all_records(empty2zero=True)\n",
    "data = pd.DataFrame(recs)\n",
    "\n",
    "phi_100_15_bar = data[(data['Equivalence Ratio'] == 1.00) &\n",
    "                      (np.isclose(data['Compressed Pressure (bar)'], 15, rtol=1E-2))][::-1]\n",
    "phi_100_30_bar = data[(data['Equivalence Ratio'] == 1.00) &\n",
    "                      (np.isclose(data['Compressed Pressure (bar)'], 30, rtol=1E-2))][::-1]"
   ]
  },
  {
   "cell_type": "code",
   "execution_count": 10,
   "metadata": {
    "collapsed": true
   },
   "outputs": [],
   "source": [
    "hadj_10_bar = pd.read_csv('ignition-delay-comparison/Hadj-Ali-10-bar-MHEX.csv', skipinitialspace=True)\n",
    "hadj_13_bar = pd.read_csv('ignition-delay-comparison/Hadj-Ali-13-bar-MHEX.csv', skipinitialspace=True)\n",
    "kumar_MB = pd.read_csv('ignition-delay-comparison/Kumar-MB.csv', skipinitialspace=True)"
   ]
  },
  {
   "cell_type": "code",
   "execution_count": 12,
   "metadata": {
    "collapsed": false
   },
   "outputs": [],
   "source": [
    "kumar_MB['1000/Tc (1/K)'] = 1000.0/kumar_MB['Compressed Temperature (K)']\n",
    "hadj_10_bar['1000/Tc (1/K)'] = 1000.0/hadj_10_bar['Compressed Temperature (K)']\n",
    "hadj_13_bar['1000/Tc (1/K)'] = 1000.0/hadj_13_bar['Compressed Temperature (K)']"
   ]
  },
  {
   "cell_type": "code",
   "execution_count": 15,
   "metadata": {
    "collapsed": false
   },
   "outputs": [],
   "source": [
    "kumar_15_bar = kumar_MB[(kumar_MB['Equivalence Ratio'] == 1.00) &\n",
    "                        (kumar_MB['Compressed Pressure (bar)'] == 15)][::-1]\n",
    "kumar_30_bar = kumar_MB[(kumar_MB['Equivalence Ratio'] == 1.00) &\n",
    "                        (kumar_MB['Compressed Pressure (bar)'] == 30)][::-1]"
   ]
  },
  {
   "cell_type": "code",
   "execution_count": 26,
   "metadata": {
    "collapsed": false
   },
   "outputs": [
    {
     "data": {
      "text/plain": [
       "(1.0, 1.6000000000000001)"
      ]
     },
     "execution_count": 26,
     "metadata": {},
     "output_type": "execute_result"
    }
   ],
   "source": [
    "fig, ax = plt.subplots(figsize=[14, 9])\n",
    "ax.set_yscale('log')\n",
    "\n",
    "plot_opts = {'markersize': 15}\n",
    "\n",
    "mark = mfunc(markers)\n",
    "ax.plot(kumar_15_bar['1000/Tc (1/K)'], kumar_15_bar['Ignition Delay (ms)'], marker=next(mark), label='MB [10]', **plot_opts)\n",
    "ax.plot(phi_100_15_bar['1000/Tc (1/K)'], phi_100_15_bar['Ignition Delay (ms)'], marker=next(mark), label='MV (this work)', **plot_opts)\n",
    "ax.plot(hadj_13_bar['1000/Tc (1/K)'], hadj_13_bar['Ignition Delay (ms)'], marker=next(mark), label='MHEX [9]', **plot_opts)\n",
    "\n",
    "ax.set_xlabel('$1000/T_C$, 1/K')\n",
    "ax.set_ylabel('Ignition Delay, ms')\n",
    "ax.set_ylim(1, 200)\n",
    "ax.yaxis.set_major_formatter(FormatStrFormatter('%d'))\n",
    "ax.legend(loc='best', handletextpad=0.0, numpoints=1)\n",
    "\n",
    "# Create the temperature axes on the top\n",
    "def convert_inv_temp(temps):\n",
    "    \"\"\"Convert a list of temperatures to inverse temperature\"\"\"\n",
    "    return [1000.0/temp for temp in temps]\n",
    "\n",
    "ax_temp = ax.twiny()\n",
    "\n",
    "# Set the major tick marks in the temperature scale and convert to inverse scale\n",
    "major_temps = np.arange(1100, 600, -100)\n",
    "major_ticks = convert_inv_temp(major_temps)\n",
    "\n",
    "# Set the interval for the minor ticks and compute the minor ticks\n",
    "minor_interval = 20\n",
    "minor_ticks = []\n",
    "for maj in major_temps:\n",
    "    minor_ticks.extend(convert_inv_temp([maj - i*minor_interval for i in range(5)]))\n",
    "    \n",
    "# Set the ticks on the axis. Note that the limit setting must be present and must be after setting the ticks\n",
    "# so that the scale is correct\n",
    "ax_temp.set_xticks(major_ticks)\n",
    "ax_temp.set_xticks(minor_ticks, minor=True)\n",
    "ax_temp.set_xticklabels(['{:d} K'.format(temp) for temp in major_temps])\n",
    "ax_temp.set_xlim(ax.get_xlim())"
   ]
  },
  {
   "cell_type": "code",
   "execution_count": 27,
   "metadata": {
    "collapsed": true
   },
   "outputs": [],
   "source": [
    "fig.savefig('ignition-delay-comparison.png')"
   ]
  },
  {
   "cell_type": "code",
   "execution_count": null,
   "metadata": {
    "collapsed": true
   },
   "outputs": [],
   "source": []
  }
 ],
 "metadata": {
  "kernelspec": {
   "display_name": "Python 3",
   "language": "python",
   "name": "python3"
  },
  "language_info": {
   "codemirror_mode": {
    "name": "ipython",
    "version": 3
   },
   "file_extension": ".py",
   "mimetype": "text/x-python",
   "name": "python",
   "nbconvert_exporter": "python",
   "pygments_lexer": "ipython3",
   "version": "3.5.1"
  }
 },
 "nbformat": 4,
 "nbformat_minor": 0
}
