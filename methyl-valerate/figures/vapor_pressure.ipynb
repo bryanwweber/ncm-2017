{
 "cells": [
  {
   "cell_type": "code",
   "execution_count": 1,
   "metadata": {
    "collapsed": false
   },
   "outputs": [],
   "source": [
    "import matplotlib as mpl\n",
    "mpl.use(\"pgf\")\n",
    "# from palettable.tableau import Tableau_10\n",
    "# from cycler import cycler\n",
    "import numpy as np\n",
    "pgf_with_pdflatex = {\n",
    "    \"pgf.texsystem\": \"pdflatex\",\n",
    "    \"pgf.preamble\": [\n",
    "         r\"\\usepackage[utf8x]{inputenc}\",\n",
    "         r\"\\usepackage[T1]{fontenc}\",\n",
    "         r\"\\usepackage{mathptmx}\",\n",
    "         r\"\\usepackage{mathtools}\",\n",
    "#          r\"\\usepackage{biblatex}\",\n",
    "         ],\n",
    "    \"text.usetex\": True,\n",
    "    \"figure.figsize\": [4, 3.75],\n",
    "    \"axes.labelsize\": 12,\n",
    "    \"font.size\": 12,\n",
    "    \"font.family\": \"serif\",\n",
    "    \"legend.fontsize\": 10,\n",
    "    \"xtick.labelsize\": 10,\n",
    "    \"ytick.labelsize\": 10,\n",
    "    \"lines.linewidth\": 1.5,\n",
    "#     \"axes.prop_cycle\": cycler(color=Tableau_10.mpl_colors),\n",
    "    \"xtick.major.size\": 5,\n",
    "    \"xtick.major.width\": 1,\n",
    "    \"xtick.minor.size\": 2.5,\n",
    "    \"xtick.minor.width\": 1,\n",
    "    \"ytick.major.size\": 5,\n",
    "    \"ytick.major.width\": 1,\n",
    "    \"ytick.minor.size\": 2.5,\n",
    "    \"ytick.minor.width\": 1,\n",
    "}\n",
    "mpl.rcParams.update(pgf_with_pdflatex)\n",
    "\n",
    "from scipy.optimize import curve_fit\n",
    "import matplotlib.pyplot as plt\n",
    "from matplotlib.ticker import MaxNLocator, AutoMinorLocator"
   ]
  },
  {
   "cell_type": "code",
   "execution_count": 3,
   "metadata": {
    "collapsed": false
   },
   "outputs": [
    {
     "name": "stdout",
     "output_type": "stream",
     "text": [
      "[    6.40297589  1528.68913524    52.88138973]\n",
      "[  0.09186087  53.47122789   4.93379075]\n",
      "[    6.21051367  1415.38995238    63.91337448]\n"
     ]
    }
   ],
   "source": [
    "def antoine(T, A, B, C):\n",
    "    return A - B/(T - C)\n",
    "ortega_data = np.loadtxt('vapor_pressure/ortega.csv', delimiter=',')\n",
    "vanGenderen_data = np.loadtxt('vapor_pressure/vanGenderen.csv', delimiter=',')\n",
    "verevkin_data = np.loadtxt('vapor_pressure/verevkin.csv', delimiter=',')\n",
    "all_data = np.vstack((ortega_data, vanGenderen_data, verevkin_data))\n",
    "all_data = all_data[all_data[:, 0].argsort()]\n",
    "coeffs, cov_mat = curve_fit(antoine, all_data[:, 0], np.log10(all_data[:, 1]), p0=[6, 1500, 50], maxfev=10000)\n",
    "print(coeffs)\n",
    "conf_int = 2*np.sqrt(np.diag(cov_mat))\n",
    "print(conf_int)\n",
    "ortega_fit, _ = curve_fit(antoine, ortega_data[:, 0], np.log10(ortega_data[:, 1]), p0=[6, 1500, 50])\n",
    "print(ortega_fit)"
   ]
  },
  {
   "cell_type": "code",
   "execution_count": 4,
   "metadata": {
    "collapsed": true
   },
   "outputs": [],
   "source": [
    "ortega = np.array([6.23175, 1429.00, 62.30])\n",
    "camacho = np.array([5.9644, 1281.06, 75.94])\n",
    "stephenson = np.array([6.62646, 1658.4, 42.09])"
   ]
  },
  {
   "cell_type": "code",
   "execution_count": 5,
   "metadata": {
    "collapsed": false
   },
   "outputs": [],
   "source": [
    "temps = np.arange(np.floor(all_data[0, 0]), np.ceil(all_data[-1, 0]), 1)"
   ]
  },
  {
   "cell_type": "code",
   "execution_count": 6,
   "metadata": {
    "collapsed": false
   },
   "outputs": [],
   "source": [
    "fig, ax = plt.subplots()\n",
    "ax.set_yscale('log')\n",
    "ax.set_xlabel('$T$, K', labelpad=5.0)\n",
    "ax.set_ylabel(r'$P_{\\text{sat}}$, kPa', labelpad=2.0)\n",
    "ax.set_ylim(1E-1, 2E2)\n",
    "ax.set_xlim(270, 420)\n",
    "ax.xaxis.set_major_locator(MaxNLocator(6))\n",
    "ax.xaxis.set_minor_locator(AutoMinorLocator(3))\n",
    "# ax.plot(temps, 10**antoine(temps, *ortega), label=r\"Ortega et al.\\ \\cite{Ortega2003}\")\n",
    "ax.plot(ortega_data[:, 0], ortega_data[:, 1], marker='o', linestyle='None', label=r\"Ortega et al.\\ \\cite{Ortega2003}\", markersize=3)\n",
    "# ax.plot(temps, 10**antoine(temps, *camacho), label=r\"Camacho et al.\\ \\cite{Camacho2007}\")\n",
    "# ax.plot(temps, 10**antoine(temps, *stephenson), label=r\"Stephenson et al.\\ \\cite{Stephenson1987}\")\n",
    "ax.plot(vanGenderen_data[:, 0], vanGenderen_data[:, 1], marker='x', linestyle='None', label=r\"van Genderen et al.\\ \\cite{vanGenderen2002}\")\n",
    "ax.plot(verevkin_data[:, 0], verevkin_data[:, 1], marker='+', linestyle='None', label=r\"Verevkin and Emel'yanenko \\cite{Verevkin2008}\")\n",
    "ax.plot(temps, 10**antoine(temps, *coeffs), label=\"This Work\")\n",
    "ax.legend(loc='best');"
   ]
  },
  {
   "cell_type": "code",
   "execution_count": 7,
   "metadata": {
    "collapsed": false
   },
   "outputs": [],
   "source": [
    "fig.savefig('vapor_pressure.pgf', bbox_inches='tight')"
   ]
  }
 ],
 "metadata": {
  "kernelspec": {
   "display_name": "Python 3",
   "language": "python",
   "name": "python3"
  },
  "language_info": {
   "codemirror_mode": {
    "name": "ipython",
    "version": 3
   },
   "file_extension": ".py",
   "mimetype": "text/x-python",
   "name": "python",
   "nbconvert_exporter": "python",
   "pygments_lexer": "ipython3",
   "version": "3.5.2"
  }
 },
 "nbformat": 4,
 "nbformat_minor": 0
}
