{
 "cells": [
  {
   "cell_type": "code",
   "execution_count": 1,
   "metadata": {
    "collapsed": false
   },
   "outputs": [],
   "source": [
    "import matplotlib as mpl\n",
    "mpl.use(\"pgf\")\n",
    "# from palettable.tableau import Tableau_10\n",
    "# from cycler import cycler\n",
    "import numpy as np\n",
    "pgf_with_pdflatex = {\n",
    "    \"pgf.texsystem\": \"pdflatex\",\n",
    "    \"pgf.preamble\": [\n",
    "         r\"\\usepackage[utf8x]{inputenc}\",\n",
    "         r\"\\usepackage[T1]{fontenc}\",\n",
    "         r\"\\usepackage{mathptmx}\",\n",
    "         r\"\\usepackage{mathtools}\",\n",
    "#          r\"\\usepackage{biblatex}\",\n",
    "         ],\n",
    "    \"text.usetex\": True,\n",
    "    \"figure.figsize\": [6, 4],\n",
    "    \"axes.labelsize\": 12,\n",
    "    \"font.size\": 12,\n",
    "    \"font.family\": \"serif\",\n",
    "    \"legend.fontsize\": 10,\n",
    "    \"xtick.labelsize\": 10,\n",
    "    \"ytick.labelsize\": 10,\n",
    "    \"lines.linewidth\": 1.5,\n",
    "    \"lines.linestyle\": None,\n",
    "    \"lines.markeredgewidth\": 0.15,\n",
    "#     \"axes.prop_cycle\": cycler(color=Tableau_10.mpl_colors),\n",
    "    \"xtick.major.size\": 5,\n",
    "    \"xtick.major.width\": 1,\n",
    "    \"xtick.minor.size\": 2.5,\n",
    "    \"xtick.minor.width\": 1,\n",
    "    \"ytick.major.size\": 5,\n",
    "    \"ytick.major.width\": 1,\n",
    "    \"ytick.minor.size\": 2.5,\n",
    "    \"ytick.minor.width\": 1,\n",
    "}\n",
    "mpl.rcParams.update(pgf_with_pdflatex)\n",
    "\n",
    "import gspread\n",
    "from oauth2client.service_account import ServiceAccountCredentials\n",
    "import pandas as pd\n",
    "import matplotlib.pyplot as plt\n",
    "from matplotlib.legend_handler import HandlerLine2D\n",
    "from matplotlib.ticker import FormatStrFormatter, AutoMinorLocator\n",
    "from palettable.tableau import Tableau_10\n",
    "from cycler import cycler"
   ]
  },
  {
   "cell_type": "code",
   "execution_count": 2,
   "metadata": {
    "collapsed": true
   },
   "outputs": [],
   "source": [
    "markers = ['o', 's', 'd', '^', 'x', '+', 'v', '<', '>', '*']\n",
    "# assert len(markers) == len(Tableau_10.mpl_colors)\n",
    "def mfunc(syms):\n",
    "    while True:\n",
    "        for s in syms:\n",
    "            yield s"
   ]
  },
  {
   "cell_type": "code",
   "execution_count": 3,
   "metadata": {
    "collapsed": false
   },
   "outputs": [],
   "source": [
    "scope = ['https://spreadsheets.google.com/feeds']\n",
    "credentials = ServiceAccountCredentials.from_json_keyfile_name('methyl-valerate-78135e2c2c7c.json',\n",
    "                                                               scope)\n",
    "gc = gspread.authorize(credentials)\n",
    "ws = gc.open_by_key('1UFdGzEyx7PsKprPybi-lkbuWYS8BAS-cBm2IKSKY-UA').sheet1\n",
    "recs = ws.get_all_records(empty2zero=True)\n",
    "data = pd.DataFrame(recs)\n",
    "\n",
    "phi_200_15_bar = data[(data['Equivalence Ratio'] == 2.00) &\n",
    "                      (np.isclose(data['Compressed Pressure (bar)'], 15, rtol=1E-2))][::-1]\n",
    "phi_100_15_bar = data[(data['Equivalence Ratio'] == 1.00) &\n",
    "                      (np.isclose(data['Compressed Pressure (bar)'], 15, rtol=1E-2))][::-1]\n",
    "phi_100_30_bar = data[(data['Equivalence Ratio'] == 1.00) &\n",
    "                      (np.isclose(data['Compressed Pressure (bar)'], 30, rtol=1E-2))][::-1]\n",
    "phi_050_15_bar = data[(data['Equivalence Ratio'] == 0.50) &\n",
    "                      (np.isclose(data['Compressed Pressure (bar)'], 15, rtol=1E-2))][::-1]\n",
    "phi_050_30_bar = data[(data['Equivalence Ratio'] == 0.50) &\n",
    "                      (np.isclose(data['Compressed Pressure (bar)'], 30, rtol=1E-2))][::-1]\n",
    "phi_025_15_bar = data[(data['Equivalence Ratio'] == 0.25) &\n",
    "                      (np.isclose(data['Compressed Pressure (bar)'], 15, rtol=1E-2))][::-1]\n",
    "phi_025_30_bar = data[(data['Equivalence Ratio'] == 0.25) &\n",
    "                      (np.isclose(data['Compressed Pressure (bar)'], 30, rtol=1E-2))][::-1]"
   ]
  },
  {
   "cell_type": "code",
   "execution_count": 4,
   "metadata": {
    "collapsed": false
   },
   "outputs": [],
   "source": [
    "# phi_100_30_bar[['1000/Tc (1/K)', 'First Stage Delay (ms)']].loc[phi_100_30_bar['First Stage Delay (ms)'] != 0]"
   ]
  },
  {
   "cell_type": "code",
   "execution_count": 11,
   "metadata": {
    "collapsed": false
   },
   "outputs": [],
   "source": [
    "fig, (ax_15_bar, ax_30_bar) = plt.subplots(nrows=2)\n",
    "fig.tight_layout(h_pad=1.75)\n",
    "ax_15_bar.set_yscale('log')\n",
    "\n",
    "plot_opts = {'markersize': 6, 'fmt': '', 'elinewidth': 1.5, 'capthick': 1.5}\n",
    "\n",
    "mark = mfunc(markers)\n",
    "ax_15_bar.errorbar(phi_025_15_bar['1000/Tc (1/K)'], phi_025_15_bar['Ignition Delay (ms)'], yerr=np.array(phi_025_15_bar['Ignition Delay Error (ms)']), label=r'$\\phi=0.25$', marker=next(mark), **plot_opts)\n",
    "ax_15_bar.errorbar(phi_025_15_bar['1000/Tc (1/K)'].iloc[[0, -1]], phi_025_15_bar['Ignition Delay (ms)'].iloc[[0, -1]], xerr=0.01*np.array(phi_025_15_bar['1000/Tc (1/K)'].iloc[[0, -1]]), label='_ignored', fmt='none', ecolor=Tableau_10.mpl_colors[0], elinewidth=plot_opts['elinewidth'], capthick=plot_opts['capthick'])\n",
    "ax_15_bar.errorbar(phi_050_15_bar['1000/Tc (1/K)'], phi_050_15_bar['Ignition Delay (ms)'], yerr=np.array(phi_050_15_bar['Ignition Delay Error (ms)']), label=r'$\\phi=0.50$', marker=next(mark), **plot_opts)\n",
    "ax_15_bar.errorbar(phi_050_15_bar['1000/Tc (1/K)'].iloc[[0, -1]], phi_050_15_bar['Ignition Delay (ms)'].iloc[[0, -1]], xerr=0.01*np.array(phi_050_15_bar['1000/Tc (1/K)'].iloc[[0, -1]]), label='_ignored', fmt='none', ecolor=Tableau_10.mpl_colors[1], elinewidth=plot_opts['elinewidth'], capthick=plot_opts['capthick'])\n",
    "ax_15_bar.errorbar(phi_100_15_bar['1000/Tc (1/K)'], phi_100_15_bar['Ignition Delay (ms)'], yerr=np.array(phi_100_15_bar['Ignition Delay Error (ms)']), label=r'$\\phi=1.00$', marker=next(mark), **plot_opts)\n",
    "ax_15_bar.errorbar(phi_100_15_bar['1000/Tc (1/K)'].iloc[[0, -1]], phi_100_15_bar['Ignition Delay (ms)'].iloc[[0, -1]], xerr=0.01*np.array(phi_100_15_bar['1000/Tc (1/K)'].iloc[[0, -1]]), label='_ignored', fmt='none', ecolor=Tableau_10.mpl_colors[2], elinewidth=plot_opts['elinewidth'], capthick=plot_opts['capthick'])\n",
    "ax_15_bar.errorbar(phi_200_15_bar['1000/Tc (1/K)'], phi_200_15_bar['Ignition Delay (ms)'], yerr=np.array(phi_200_15_bar['Ignition Delay Error (ms)']), label=r'$\\phi=2.00$', marker=next(mark), **plot_opts)\n",
    "ax_15_bar.errorbar(phi_200_15_bar['1000/Tc (1/K)'].iloc[[0, -1]], phi_200_15_bar['Ignition Delay (ms)'].iloc[[0, -1]], xerr=0.01*np.array(phi_200_15_bar['1000/Tc (1/K)'].iloc[[0, -1]]), label='_ignored', fmt='none', ecolor=Tableau_10.mpl_colors[3], elinewidth=plot_opts['elinewidth'], capthick=plot_opts['capthick'])\n",
    "(_, phi_200_tau1_caps, _) = ax_15_bar.errorbar(phi_200_15_bar['1000/Tc (1/K)'], phi_200_15_bar['First Stage Delay (ms)'], yerr=np.array(phi_200_15_bar['First Stage Error (ms)']), marker=markers[3], color=Tableau_10.mpl_colors[3], label='_ignored', markerfacecolor='none', markeredgewidth='1.0', **plot_opts)\n",
    "\n",
    "mark = mfunc(markers)\n",
    "ax_30_bar.set_yscale('log')\n",
    "ax_30_bar.errorbar(phi_025_30_bar['1000/Tc (1/K)'], phi_025_30_bar['Ignition Delay (ms)'], yerr=np.array(phi_025_30_bar['Ignition Delay Error (ms)']), label=r'$\\phi=0.25$', marker=next(mark), **plot_opts)\n",
    "ax_30_bar.errorbar(phi_025_30_bar['1000/Tc (1/K)'].iloc[[0, -1]], phi_025_30_bar['Ignition Delay (ms)'].iloc[[0, -1]], xerr=0.01*np.array(phi_025_30_bar['1000/Tc (1/K)'].iloc[[0, -1]]), label='_ignored', fmt='none', ecolor=Tableau_10.mpl_colors[0], elinewidth=plot_opts['elinewidth'], capthick=plot_opts['capthick'])\n",
    "ax_30_bar.errorbar(phi_050_30_bar['1000/Tc (1/K)'], phi_050_30_bar['Ignition Delay (ms)'], yerr=np.array(phi_050_30_bar['Ignition Delay Error (ms)']), label=r'$\\phi=0.50$', marker=next(mark), **plot_opts)\n",
    "ax_30_bar.errorbar(phi_050_30_bar['1000/Tc (1/K)'].iloc[[0, -1]], phi_050_30_bar['Ignition Delay (ms)'].iloc[[0, -1]], xerr=0.01*np.array(phi_050_30_bar['1000/Tc (1/K)'].iloc[[0, -1]]), label='_ignored', fmt='none', ecolor=Tableau_10.mpl_colors[1], elinewidth=plot_opts['elinewidth'], capthick=plot_opts['capthick'])\n",
    "ax_30_bar.errorbar(phi_100_30_bar['1000/Tc (1/K)'], phi_100_30_bar['Ignition Delay (ms)'], yerr=np.array(phi_100_30_bar['Ignition Delay Error (ms)']), label=r'$\\phi=1.00$', marker=next(mark), **plot_opts)\n",
    "ax_30_bar.errorbar(phi_100_30_bar['1000/Tc (1/K)'].iloc[[0, -1]], phi_100_30_bar['Ignition Delay (ms)'].iloc[[0, -1]], xerr=0.01*np.array(phi_100_30_bar['1000/Tc (1/K)'].iloc[[0, -1]]), label='_ignored', fmt='none', ecolor=Tableau_10.mpl_colors[2], elinewidth=plot_opts['elinewidth'], capthick=plot_opts['capthick'])\n",
    "(_, phi_100_tau1_caps, _) = ax_30_bar.errorbar(phi_100_30_bar['1000/Tc (1/K)'].loc[phi_100_30_bar['First Stage Delay (ms)'] != 0], phi_100_30_bar['First Stage Delay (ms)'].loc[phi_100_30_bar['First Stage Delay (ms)'] != 0], yerr=np.array(phi_100_30_bar['First Stage Error (ms)'].loc[phi_100_30_bar['First Stage Delay (ms)'] != 0]), marker=markers[2], color=Tableau_10.mpl_colors[2], markerfacecolor='none', markeredgewidth='1.0', **plot_opts)\n",
    "\n",
    "# Set y limits\n",
    "ax_15_bar.set_ylim(2, 200)\n",
    "ax_30_bar.set_ylim(3, 50)\n",
    "\n",
    "# Set the formatting of the y tick labels\n",
    "ax_15_bar.yaxis.set_major_formatter(FormatStrFormatter('%d'))\n",
    "ax_30_bar.yaxis.set_major_formatter(FormatStrFormatter('%d'))\n",
    "ax_15_bar.xaxis.set_minor_locator(AutoMinorLocator(4))\n",
    "ax_30_bar.xaxis.set_minor_locator(AutoMinorLocator(4))\n",
    "\n",
    "# Set x limits\n",
    "ax_15_bar.set_xlim(0.94, 1.55)\n",
    "ax_30_bar.set_xlim(ax_15_bar.get_xlim())\n",
    "\n",
    "# Create the legend, removing the error bars\n",
    "handles, labels = ax_15_bar.get_legend_handles_labels()\n",
    "handles = [h[0] for h in handles]\n",
    "ax_15_bar.legend(handles, labels, loc='lower left', bbox_to_anchor=(0., 1.2, 1., 0.102), numpoints=1, frameon=True, handletextpad=0.0, ncol=4, mode=\"expand\", borderaxespad=0.0)\n",
    "\n",
    "# Make the error bar caps thicker\n",
    "for c in (phi_200_tau1_caps + phi_100_tau1_caps):\n",
    "    c.set_markeredgewidth(1.5)\n",
    "\n",
    "# Set the axis labels\n",
    "fig.text(0.0, 0.5, 'Ignition Delay, ms', verticalalignment='center', rotation='vertical')\n",
    "fig.text(0.5, 0.0, '$1000/T_C$, 1/K', horizontalalignment='center')\n",
    "\n",
    "# Set the a) b) figure labels\n",
    "ax_15_bar.text(0.75, 0.10, r'a) $P_C = 15\\ \\text{bar}$', transform=ax_15_bar.transAxes)\n",
    "ax_30_bar.text(0.75, 0.10, r'b) $P_C = 30\\ \\text{bar}$', transform=ax_30_bar.transAxes)\n",
    "\n",
    "# Create the temperature axes on the top\n",
    "def convert_inv_temp(temps):\n",
    "    \"\"\"Convert a list of temperatures to inverse temperature\"\"\"\n",
    "    return [1000.0/temp for temp in temps]\n",
    "\n",
    "ax_15_temp = ax_15_bar.twiny()\n",
    "ax_30_temp = ax_30_bar.twiny()\n",
    "\n",
    "# Set the major tick marks in the temperature scale and convert to inverse scale\n",
    "major_temps = np.arange(1100, 600, -100)\n",
    "major_ticks = convert_inv_temp(major_temps)\n",
    "\n",
    "# Set the interval for the minor ticks and compute the minor ticks\n",
    "minor_interval = 20\n",
    "minor_ticks = []\n",
    "for maj in major_temps:\n",
    "    minor_ticks.extend(convert_inv_temp([maj - i*minor_interval for i in range(5)]))\n",
    "    \n",
    "# Set the ticks on the axis. Note that the limit setting must be present and must be after setting the ticks\n",
    "# so that the scale is correct\n",
    "ax_15_temp.set_xticks(major_ticks)\n",
    "ax_15_temp.set_xticks(minor_ticks, minor=True)\n",
    "ax_15_temp.set_xticklabels(['{:d} K'.format(temp) for temp in major_temps])\n",
    "ax_15_temp.set_xlim(ax_15_bar.get_xlim())\n",
    "ax_30_temp.set_xticks(major_ticks)\n",
    "ax_30_temp.set_xticks(minor_ticks, minor=True)\n",
    "ax_30_temp.set_xticklabels(['{:d} K'.format(temp) for temp in major_temps])\n",
    "ax_30_temp.set_xlim(ax_15_bar.get_xlim());"
   ]
  },
  {
   "cell_type": "code",
   "execution_count": 12,
   "metadata": {
    "collapsed": false
   },
   "outputs": [],
   "source": [
    "fig.savefig('ignition-delays.pgf', bbox_inches='tight')"
   ]
  }
 ],
 "metadata": {
  "kernelspec": {
   "display_name": "Python 3",
   "language": "python",
   "name": "python3"
  },
  "language_info": {
   "codemirror_mode": {
    "name": "ipython",
    "version": 3
   },
   "file_extension": ".py",
   "mimetype": "text/x-python",
   "name": "python",
   "nbconvert_exporter": "python",
   "pygments_lexer": "ipython3",
   "version": "3.5.2"
  }
 },
 "nbformat": 4,
 "nbformat_minor": 0
}
