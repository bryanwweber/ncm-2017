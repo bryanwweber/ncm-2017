{
 "cells": [
  {
   "cell_type": "code",
   "execution_count": 1,
   "metadata": {
    "collapsed": false
   },
   "outputs": [],
   "source": [
    "import matplotlib as mpl\n",
    "mpl.use(\"pgf\")\n",
    "# from palettable.tableau import Tableau_10\n",
    "# from cycler import cycler\n",
    "import numpy as np\n",
    "pgf_with_pdflatex = {\n",
    "    \"pgf.texsystem\": \"pdflatex\",\n",
    "    \"pgf.preamble\": [\n",
    "         r\"\\usepackage[utf8x]{inputenc}\",\n",
    "         r\"\\usepackage[T1]{fontenc}\",\n",
    "         r\"\\usepackage{mathptmx}\",\n",
    "         r\"\\usepackage{mathtools}\",\n",
    "#          r\"\\usepackage{biblatex}\",\n",
    "         ],\n",
    "    \"text.usetex\": True,\n",
    "    \"figure.figsize\": [4, 4.25],\n",
    "    \"axes.labelsize\": 12,\n",
    "    \"axes.labelpad\": 5.0,\n",
    "    \"font.size\": 12,\n",
    "    \"font.family\": \"serif\",\n",
    "    \"legend.fontsize\": 10,\n",
    "    \"xtick.labelsize\": 10,\n",
    "    \"ytick.labelsize\": 10,\n",
    "    \"lines.linewidth\": 1.5,\n",
    "#     \"axes.prop_cycle\": cycler(color=Tableau_10.mpl_colors),\n",
    "    \"xtick.major.size\": 5,\n",
    "    \"xtick.major.width\": 1,\n",
    "    \"xtick.minor.size\": 2.5,\n",
    "    \"xtick.minor.width\": 1,\n",
    "    \"ytick.major.size\": 5,\n",
    "    \"ytick.major.width\": 1,\n",
    "    \"ytick.minor.size\": 2.5,\n",
    "    \"ytick.minor.width\": 1,\n",
    "}\n",
    "mpl.rcParams.update(pgf_with_pdflatex)\n",
    "\n",
    "import uconnrcmpy as ucr\n",
    "from pathlib import Path\n",
    "import matplotlib.pyplot as plt\n",
    "from matplotlib.ticker import MaxNLocator, AutoMinorLocator"
   ]
  },
  {
   "cell_type": "code",
   "execution_count": 2,
   "metadata": {
    "collapsed": false
   },
   "outputs": [],
   "source": [
    "reac = ucr.experiments.Experiment(Path('ignition_delay_definition/00_in_00_mm_373K-580t-100x-29-Jul-15-1011.txt'), cti_file='./species.cti')\n",
    "rpt = reac.pressure_trace\n",
    "rpt.zeroed_time *= 1000\n",
    "reac.first_stage = 16.57\n",
    "reac.ignition_delay += 0.5\n",
    "nonr = ucr.experiments.Experiment(Path('ignition_delay_definition/NR_00_in_00_mm_373K-578t-100x-29-Jul-15-1048.txt'), cti_file='./species.cti')\n",
    "npt = nonr.pressure_trace\n",
    "npt.zeroed_time *= 1000\n",
    "npt.zeroed_time += 0.5"
   ]
  },
  {
   "cell_type": "code",
   "execution_count": 3,
   "metadata": {
    "collapsed": false
   },
   "outputs": [],
   "source": [
    "fig, pressure_ax = plt.subplots()\n",
    "pressure_ax.set_xlabel('Time, ms')\n",
    "pressure_ax.set_ylabel('Pressure, bar')\n",
    "pressure_ax.xaxis.set_major_locator(MaxNLocator(6))\n",
    "pressure_ax.xaxis.set_minor_locator(AutoMinorLocator(4))\n",
    "pressure_ax.yaxis.set_minor_locator(AutoMinorLocator(2))\n",
    "pressure_ax.plot(rpt.zeroed_time, rpt.pressure, label='Pressure')\n",
    "pressure_ax.plot(npt.zeroed_time, npt.pressure, label='Non-Reactive\\nPressure')\n",
    "\n",
    "dpdt_ax = pressure_ax.twinx()\n",
    "dpdt_max = np.argmax(rpt.derivative)\n",
    "dpdt_ax.set_ylabel('Time Derivative of Pressure, bar/ms')\n",
    "dpdt_ax.plot(rpt.zeroed_time[:dpdt_max], rpt.derivative[:dpdt_max]/1000, label='Time Derivative',\n",
    "             color=next(pressure_ax._get_lines.prop_cycler)['color'])\n",
    "dpdt_ax.yaxis.set_minor_locator(AutoMinorLocator(2))\n",
    "dpdt_ax.set_ylim(-0.25, 2.0)\n",
    "\n",
    "pressure_ax.axvline(x=0, color='k', ymax=0.4)\n",
    "pressure_ax.axvline(x=reac.ignition_delay, color='k')\n",
    "pressure_ax.axvline(x=reac.first_stage, color='k', ymax=0.2)\n",
    "pressure_ax.annotate('', xy=(0, 6), xycoords='data', xytext=(reac.first_stage, 6), textcoords='data',\n",
    "                     arrowprops={'arrowstyle': '<|-|>', 'shrinkA': 0, 'shrinkB': 0, 'fc': 'black'})\n",
    "pressure_ax.annotate(r'$\\tau_1$', xy=(reac.first_stage/2, 6), xycoords='data', xytext=(0, 6), textcoords='offset points')\n",
    "pressure_ax.annotate(r'$\\tau$', xy=(reac.ignition_delay/2, 20), xycoords='data', xytext=(0, 10), textcoords='offset points')\n",
    "pressure_ax.annotate('', xy=(0, 20), xycoords='data', xytext=(reac.ignition_delay, 20), textcoords='data',\n",
    "                     arrowprops={'arrowstyle': '<|-|>', 'shrinkA': 0, 'shrinkB': 0, 'fc': 'black'})\n",
    "pressure_ax.annotate('EOC', xy=(0, 25), xycoords='data')\n",
    "pressure_ax.annotate('', xy=(-3, 10), xycoords='data', xytext=(-10, 10), textcoords='data',\n",
    "                     arrowprops={'arrowstyle': '<|-', 'shrinkA': 0, 'shrinkB': 0, 'fc': 'black'})\n",
    "dpdt_ax.annotate('', xy=(-1, 1.0), xycoords='data', xytext=(12, 1.0), textcoords='data',\n",
    "                 arrowprops={'arrowstyle': '<|-', 'shrinkA': 0, 'shrinkB': 0, 'fc': 'black'})\n",
    "pressure_ax.set_ylim(0, 60)\n",
    "pressure_ax.set_xlim(-15, 35)\n",
    "pressure_ax.set_xlabel('Time, ms')\n",
    "pressure_ax.set_ylabel('Pressure, bar')\n",
    "\n",
    "lin_1, leg_1 = pressure_ax.get_legend_handles_labels()\n",
    "lin_2, leg_2 = dpdt_ax.get_legend_handles_labels()\n",
    "dpdt_ax_legend = dpdt_ax.legend(lin_1 + lin_2, leg_1 + leg_2, bbox_to_anchor=(0.3, 0.95))\n",
    "\n",
    "for leg in dpdt_ax_legend.legendHandles:\n",
    "    leg.set_linewidth(2.0)"
   ]
  },
  {
   "cell_type": "code",
   "execution_count": 4,
   "metadata": {
    "collapsed": false
   },
   "outputs": [],
   "source": [
    "fig.savefig('ignition_delay_definition.pgf', bbox_inches='tight')"
   ]
  }
 ],
 "metadata": {
  "kernelspec": {
   "display_name": "Python 3",
   "language": "python",
   "name": "python3"
  },
  "language_info": {
   "codemirror_mode": {
    "name": "ipython",
    "version": 3
   },
   "file_extension": ".py",
   "mimetype": "text/x-python",
   "name": "python",
   "nbconvert_exporter": "python",
   "pygments_lexer": "ipython3",
   "version": "3.5.2"
  }
 },
 "nbformat": 4,
 "nbformat_minor": 0
}
