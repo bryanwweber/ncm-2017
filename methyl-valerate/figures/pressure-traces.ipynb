{
 "cells": [
  {
   "cell_type": "raw",
   "metadata": {
    "collapsed": true
   },
   "source": [
    "import gspread\n",
    "from oauth2client.service_account import ServiceAccountCredentials\n",
    "import numpy as np\n",
    "import pandas as pd\n",
    "import matplotlib.pyplot as plt\n",
    "from matplotlib.legend_handler import HandlerLine2D\n",
    "from matplotlib.ticker import FormatStrFormatter\n",
    "from palettable.tableau import Tableau_10\n",
    "from cycler import cycler\n",
    "from pathlib import Path"
   ]
  },
  {
   "cell_type": "code",
   "execution_count": 2,
   "metadata": {
    "collapsed": false
   },
   "outputs": [],
   "source": [
    "scale = 3\n",
    "almost_black = '#262626'\n",
    "plt.rc('lines', linewidth=1.5)\n",
    "plt.rc('axes', prop_cycle=cycler(color=Tableau_10.mpl_colors),\n",
    "       labelsize=9*scale, edgecolor=almost_black)\n",
    "plt.rc('xtick', labelsize=9*scale)\n",
    "plt.rc('ytick', labelsize=9*scale)\n",
    "plt.rc('legend', fontsize=8*scale)\n",
    "plt.rc('font', family='serif', serif=\"Times New Roman\", size=9*scale)\n",
    "plt.rc('text', color=almost_black)\n",
    "plt.rc('mathtext', fontset='stix')\n",
    "plt.rc('xtick.major', size=10, width=1)\n",
    "plt.rc('xtick.minor', size=5, width=1)\n",
    "plt.rc('ytick.major', size=10, width=1)\n",
    "plt.rc('ytick.minor', size=5, width=1)\n",
    "plt.rc('figure', dpi=300, autolayout=True)"
   ]
  },
  {
   "cell_type": "code",
   "execution_count": 3,
   "metadata": {
    "collapsed": false
   },
   "outputs": [],
   "source": [
    "phi_1_files = [Path('pressure-traces') + p for p in [Path('Tc_700K_P0_2.1848_T0_353K_pressure.txt'), Path('Tc_734K_P0_1.8013_T0_353K_pressure.txt'), Path('Tc_775K_P0_1.4365_T0_353K_pressure.txt')]]\n",
    "phi_2_files = [Path('pressure-traces') + p for p in [Path('Tc_699K_P0_0.7082_T0_373K_pressure.txt'), Path('Tc_723K_P0_0.7694_T0_373K_pressure.txt'), Path('Tc_786K_P0_0.7856_T0_413K_pressure.txt')]]"
   ]
  },
  {
   "cell_type": "code",
   "execution_count": 4,
   "metadata": {
    "collapsed": false
   },
   "outputs": [],
   "source": [
    "scope = ['https://spreadsheets.google.com/feeds']\n",
    "credentials = ServiceAccountCredentials.from_json_keyfile_name('methyl-valerate-78135e2c2c7c.json',\n",
    "                                                               scope)\n",
    "gc = gspread.authorize(credentials)\n",
    "ws = gc.open_by_key('1UFdGzEyx7PsKprPybi-lkbuWYS8BAS-cBm2IKSKY-UA').sheet1\n",
    "recs = ws.get_all_records(empty2zero=True)\n",
    "data = pd.DataFrame(recs)\n",
    "\n",
    "phi_200_15_bar = data[(data['Equivalence Ratio'] == 2.00) &\n",
    "                      (np.isclose(data['Compressed Pressure (bar)'], 15, rtol=1E-2))]\n",
    "phi_100_30_bar = data[(data['Equivalence Ratio'] == 1.00) &\n",
    "                      (np.isclose(data['Compressed Pressure (bar)'], 30, rtol=1E-2))]\n",
    "\n",
    "phi_1_temps = phi_100_30_bar['Compressed Temperature (K)'].iloc[[1, 3, 5]]\n",
    "phi_1_comp_times = phi_100_30_bar['Compression Time (ms)'].iloc[[1, 3, 5]]\n",
    "phi_1_comp_times.iloc[-1] -= 1.0\n",
    "phi_2_temps = phi_200_15_bar['Compressed Temperature (K)'].iloc[[3, 5, 11]]\n",
    "phi_2_comp_times = phi_200_15_bar['Compression Time (ms)'].iloc[[3, 5, 11]]"
   ]
  },
  {
   "cell_type": "code",
   "execution_count": 5,
   "metadata": {
    "collapsed": false
   },
   "outputs": [
    {
     "data": {
      "text/plain": [
       "<matplotlib.text.Text at 0x116172550>"
      ]
     },
     "execution_count": 5,
     "metadata": {},
     "output_type": "execute_result"
    }
   ],
   "source": [
    "fig, (ax_phi_1, ax_phi_2) = plt.subplots(ncols=2, figsize=[24, 9])\n",
    "\n",
    "for i, f in enumerate(phi_1_files):\n",
    "    data = np.loadtxt(str(f))\n",
    "    ax_phi_1.plot(data[:, 0]*1000 - phi_1_comp_times.iloc[i], data[:, 1], label='$T_C = {}$ K'.format(phi_1_temps.iloc[i]))\n",
    "    \n",
    "nrdata = np.loadtxt('NR_Tc_700K_P0_2.1848_T0_353K_pressure.txt')\n",
    "ax_phi_1.plot(nrdata[:, 0]*1000 + 0.25, nrdata[:, 1], label='Non-Reactive')\n",
    "\n",
    "ax_phi_1.minorticks_on()\n",
    "\n",
    "ax_phi_1.set_xlim(-20, 15)\n",
    "ax_phi_1.set_ylim(0, 60)\n",
    "ax_phi_1.set_ylabel('Pressure, bar')\n",
    "ax_phi_1.set_xlabel('Time, ms')\n",
    "ax_phi_1.legend(loc='upper center')\n",
    "ax_phi_1.text(0.04, 0.9, 'a)', transform=ax_phi_1.transAxes, fontweight='bold')"
   ]
  },
  {
   "cell_type": "code",
   "execution_count": 6,
   "metadata": {
    "collapsed": false
   },
   "outputs": [
    {
     "data": {
      "text/plain": [
       "<matplotlib.text.Text at 0x115f1c208>"
      ]
     },
     "execution_count": 6,
     "metadata": {},
     "output_type": "execute_result"
    }
   ],
   "source": [
    "for i, f in enumerate(phi_2_files):\n",
    "    data = np.loadtxt(str(f))\n",
    "    ax_phi_2.plot(data[:, 0]*1000 - phi_2_comp_times.iloc[i], data[:, 1], label='$T_C = {}$ K'.format(phi_2_temps.iloc[i]))\n",
    "\n",
    "nrdata = np.loadtxt('NR_Tc_699K_P0_0.7082_T0_373K_pressure.txt')\n",
    "ax_phi_2.plot(nrdata[:, 0]*1000, nrdata[:, 1], label='Non-Reactive')\n",
    "\n",
    "ax_phi_2.minorticks_on()\n",
    "\n",
    "ax_phi_2.set_xlim(-20, 40)\n",
    "ax_phi_2.set_ylim(0, 25)\n",
    "ax_phi_2.set_xlabel('Time, ms')\n",
    "ax_phi_2.legend(loc='upper center')\n",
    "ax_phi_2.text(0.04, 0.9, 'b)', transform=ax_phi_2.transAxes, fontweight='bold')"
   ]
  },
  {
   "cell_type": "code",
   "execution_count": 7,
   "metadata": {
    "collapsed": false
   },
   "outputs": [],
   "source": [
    "fig.savefig('pressure-traces.png')"
   ]
  }
 ],
 "metadata": {
  "kernelspec": {
   "display_name": "Python 3",
   "language": "python",
   "name": "python3"
  },
  "language_info": {
   "codemirror_mode": {
    "name": "ipython",
    "version": 3
   },
   "file_extension": ".py",
   "mimetype": "text/x-python",
   "name": "python",
   "nbconvert_exporter": "python",
   "pygments_lexer": "ipython3",
   "version": "3.5.1"
  }
 },
 "nbformat": 4,
 "nbformat_minor": 0
}
