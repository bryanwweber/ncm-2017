{
 "cells": [
  {
   "cell_type": "code",
   "execution_count": 1,
   "metadata": {
    "collapsed": true
   },
   "outputs": [],
   "source": [
    "import matplotlib as mpl\n",
    "mpl.use(\"pgf\")\n",
    "import numpy as np\n",
    "pgf_with_pdflatex = {\n",
    "    \"pgf.texsystem\": \"pdflatex\",\n",
    "    \"pgf.preamble\": [\n",
    "         r\"\\usepackage[utf8x]{inputenc}\",\n",
    "         r\"\\usepackage[T1]{fontenc}\",\n",
    "         r\"\\usepackage{mathptmx}\",\n",
    "         r\"\\usepackage{mathtools}\",\n",
    "#          r\"\\usepackage{biblatex}\",\n",
    "         ],\n",
    "    \"text.usetex\": True,\n",
    "    \"figure.figsize\": [4, 3.5],\n",
    "    \"axes.labelsize\": 12,\n",
    "    \"font.size\": 12,\n",
    "    \"font.family\": \"serif\",\n",
    "    \"legend.fontsize\": 10,\n",
    "    \"xtick.labelsize\": 10,\n",
    "    \"ytick.labelsize\": 10,\n",
    "    \"lines.linewidth\": 1.5,\n",
    "    \"lines.linestyle\": None,\n",
    "    \"lines.markeredgewidth\": 0.15,\n",
    "    \"xtick.major.size\": 5,\n",
    "    \"xtick.major.width\": 1,\n",
    "    \"xtick.minor.size\": 2.5,\n",
    "    \"xtick.minor.width\": 1,\n",
    "    \"ytick.major.size\": 5,\n",
    "    \"ytick.major.width\": 1,\n",
    "    \"ytick.minor.size\": 2.5,\n",
    "    \"ytick.minor.width\": 1,\n",
    "}\n",
    "mpl.rcParams.update(pgf_with_pdflatex)\n",
    "\n",
    "import pandas as pd\n",
    "from pathlib import Path\n",
    "import matplotlib.pyplot as plt\n",
    "from matplotlib.ticker import FormatStrFormatter, AutoMinorLocator\n",
    "from matplotlib.lines import Line2D"
   ]
  },
  {
   "cell_type": "code",
   "execution_count": 2,
   "metadata": {
    "collapsed": true
   },
   "outputs": [],
   "source": [
    "markers = ['o', 's', 'd', '^', '*', '+', 'v', '<', '>', 'x']\n",
    "def mfunc(syms):\n",
    "    while True:\n",
    "        for s in syms:\n",
    "            yield s"
   ]
  },
  {
   "cell_type": "code",
   "execution_count": 3,
   "metadata": {
    "collapsed": true
   },
   "outputs": [],
   "source": [
    "df = pd.read_csv('ignition-delay/dme-meoh-data.csv', header=0, index_col=[0,1])\n",
    "df = df.reindex(['100% DME', '75% DME', '50% DME', '25% DME', '0% DME'], level=0)\n",
    "df['Percent'] = df['Error']/(2*df['Tig'])*100"
   ]
  },
  {
   "cell_type": "code",
   "execution_count": 4,
   "metadata": {
    "collapsed": false
   },
   "outputs": [],
   "source": [
    "sim_df = pd.read_csv('simulation-comparison/output.csv')\n",
    "sims = {'100:0': '100% DME', '75:25': '75% DME', '50:50': '50% DME', '25:75': '25% DME', '0:100': '0% DME'}\n",
    "sim_df.rename(columns=sims, inplace=True)"
   ]
  },
  {
   "cell_type": "code",
   "execution_count": 5,
   "metadata": {
    "collapsed": false
   },
   "outputs": [],
   "source": [
    "fig, ax_ign_delay = plt.subplots()\n",
    "ax_ign_delay.set_yscale('log')\n",
    "ax_ign_delay.set_ylabel('Ignition Delay, ms')\n",
    "ax_ign_delay.set_xlabel('$1000/T_C$, 1/K')\n",
    "\n",
    "plot_opts = {'markersize': 6, 'fmt': '', 'elinewidth': 1.0}\n",
    "\n",
    "mark = mfunc(markers)\n",
    "\n",
    "for c, new_df in df[(df['Tig'] < 100) & (df['Tig'] > 5) & (df['Percent'] < 10)].groupby(level=0):\n",
    "    color = next(ax_ign_delay._get_lines.prop_cycler)['color']\n",
    "    ax_ign_delay.errorbar(new_df['1000/Tc'], new_df['Tig'], yerr=np.array(new_df['Error']), label=c.replace('%', r'\\%'), marker=next(mark), color=color, **plot_opts)\n",
    "    beg = new_df['1000/Tc'][0] + 0.05\n",
    "    end = new_df['1000/Tc'][-1] - 0.05\n",
    "    X = sim_df.loc[((sim_df['1000/T'] < beg) & (sim_df['1000/T'] > end)), '1000/T']\n",
    "    Y = sim_df.loc[((sim_df['1000/T'] < beg) & (sim_df['1000/T'] > end)), c]\n",
    "    ax_ign_delay.plot(X, Y*1000, linestyle='-', label='', color=color)\n",
    "\n",
    "# Set y limits\n",
    "ax_ign_delay.set_ylim(1, 150)\n",
    "\n",
    "# Set the formatting of the y tick labels\n",
    "ax_ign_delay.yaxis.set_major_formatter(FormatStrFormatter('%d'))\n",
    "ax_ign_delay.xaxis.set_minor_locator(AutoMinorLocator(4))\n",
    "\n",
    "# Set x limits\n",
    "ax_ign_delay.set_xlim(1.1, 1.7)\n",
    "\n",
    "# Create the legend, removing the error bars\n",
    "handles, labels = ax_ign_delay.get_legend_handles_labels()\n",
    "hnd = []\n",
    "for i, h in enumerate(handles):\n",
    "    hnd.append(Line2D([], [], color=h[0].get_color(), marker=markers[i], linestyle='-'))\n",
    "\n",
    "ax_ign_delay.legend(hnd, labels, loc='lower center', bbox_to_anchor=(0.32, 0.), numpoints=1, frameon=True)\n",
    "\n",
    "# Create the temperature axes on the top\n",
    "def convert_inv_temp(temps):\n",
    "    \"\"\"Convert a list of temperatures to inverse temperature\"\"\"\n",
    "    return [1000.0/temp for temp in temps]\n",
    "\n",
    "ax_ign_temp = ax_ign_delay.twiny()\n",
    "\n",
    "# Set the major tick marks in the temperature scale and convert to invegrse scale\n",
    "major_temps = np.arange(1000, 500, -100)\n",
    "major_ticks = convert_inv_temp(major_temps)\n",
    "\n",
    "# Set the interval for the minor ticks and compute the minor ticks\n",
    "minor_interval = 20\n",
    "minor_ticks = []\n",
    "for maj in major_temps:\n",
    "    minor_ticks.extend(convert_inv_temp([maj - i*minor_interval for i in range(5)]))\n",
    "    \n",
    "# Set the ticks on the axis. Note that the limit setting must be present and must be after setting the ticks\n",
    "# so that the scale is correct\n",
    "ax_ign_temp.set_xticks(major_ticks)\n",
    "ax_ign_temp.set_xticks(minor_ticks, minor=True)\n",
    "ax_ign_temp.set_xticklabels(['{:d} K'.format(temp) for temp in major_temps])\n",
    "ax_ign_temp.set_xlim(ax_ign_delay.get_xlim());"
   ]
  },
  {
   "cell_type": "code",
   "execution_count": 6,
   "metadata": {
    "collapsed": true
   },
   "outputs": [],
   "source": [
    "fig.savefig('simulation-comparison.pgf', bbox_inches='tight')"
   ]
  }
 ],
 "metadata": {
  "kernelspec": {
   "display_name": "Python 3",
   "language": "python",
   "name": "python3"
  },
  "language_info": {
   "codemirror_mode": {
    "name": "ipython",
    "version": 3
   },
   "file_extension": ".py",
   "mimetype": "text/x-python",
   "name": "python",
   "nbconvert_exporter": "python",
   "pygments_lexer": "ipython3",
   "version": "3.5.2"
  }
 },
 "nbformat": 4,
 "nbformat_minor": 2
}
