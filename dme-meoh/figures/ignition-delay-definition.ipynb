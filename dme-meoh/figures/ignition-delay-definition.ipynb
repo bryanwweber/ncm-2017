{
 "cells": [
  {
   "cell_type": "code",
   "execution_count": 1,
   "metadata": {
    "collapsed": true
   },
   "outputs": [],
   "source": [
    "import matplotlib as mpl\n",
    "mpl.use(\"pgf\")\n",
    "# from palettable.tableau import Tableau_10\n",
    "# from cycler import cycler\n",
    "import numpy as np\n",
    "pgf_with_pdflatex = {\n",
    "    \"pgf.texsystem\": \"pdflatex\",\n",
    "    \"pgf.preamble\": [\n",
    "         r\"\\usepackage[utf8x]{inputenc}\",\n",
    "         r\"\\usepackage[T1]{fontenc}\",\n",
    "         r\"\\usepackage{mathptmx}\",\n",
    "         r\"\\usepackage{mathtools}\",\n",
    "#          r\"\\usepackage{biblatex}\",\n",
    "         ],\n",
    "    \"text.usetex\": True,\n",
    "    \"figure.figsize\": [4, 3.5],\n",
    "    \"axes.labelsize\": 12,\n",
    "    \"axes.labelpad\": 5.0,\n",
    "    \"font.size\": 12,\n",
    "    \"font.family\": \"serif\",\n",
    "    \"legend.fontsize\": 10,\n",
    "    \"xtick.labelsize\": 10,\n",
    "    \"ytick.labelsize\": 10,\n",
    "    \"lines.linewidth\": 1.5,\n",
    "#     \"axes.prop_cycle\": cycler(color=Tableau_10.mpl_colors),\n",
    "    \"xtick.major.size\": 5,\n",
    "    \"xtick.major.width\": 1,\n",
    "    \"xtick.minor.size\": 2.5,\n",
    "    \"xtick.minor.width\": 1,\n",
    "    \"ytick.major.size\": 5,\n",
    "    \"ytick.major.width\": 1,\n",
    "    \"ytick.minor.size\": 2.5,\n",
    "    \"ytick.minor.width\": 1,\n",
    "}\n",
    "mpl.rcParams.update(pgf_with_pdflatex)\n",
    "\n",
    "import uconnrcmpy as ucr\n",
    "from pathlib import Path\n",
    "import matplotlib.pyplot as plt\n",
    "from matplotlib.ticker import MaxNLocator, AutoMinorLocator"
   ]
  },
  {
   "cell_type": "code",
   "execution_count": 2,
   "metadata": {
    "collapsed": false
   },
   "outputs": [
    {
     "name": "stdout",
     "output_type": "stream",
     "text": [
      "\n",
      "\n",
      "**** WARNING ****\n",
      "For species oh*, discontinuity in h/RT detected at Tmid = 1000\n",
      "\tValue computed using low-temperature polynomial:  53.6206\n",
      "\tValue computed using high-temperature polynomial: 53.5842\n",
      "\n",
      "\n",
      "**** WARNING ****\n",
      "For species ch3o2, discontinuity in cp/R detected at Tmid = 1000\n",
      "\tValue computed using low-temperature polynomial:  11.5313\n",
      "\tValue computed using high-temperature polynomial: 11.5482\n",
      "\n",
      "\n",
      "**** WARNING ****\n",
      "For species ch*, discontinuity in h/RT detected at Tmid = 1000\n",
      "\tValue computed using low-temperature polynomial:  107.505\n",
      "\tValue computed using high-temperature polynomial: 107.348\n",
      "\n",
      "\n",
      "**** WARNING ****\n",
      "For species c2h2oh, discontinuity in cp/R detected at Tmid = 1000\n",
      "\tValue computed using low-temperature polynomial:  12.2546\n",
      "\tValue computed using high-temperature polynomial: 12.2718\n",
      "\n",
      "\n",
      "**** WARNING ****\n",
      "For species ohv, discontinuity in h/RT detected at Tmid = 1000\n",
      "\tValue computed using low-temperature polynomial:  53.6206\n",
      "\tValue computed using high-temperature polynomial: 53.5842\n",
      "\n",
      "\n",
      "**** WARNING ****\n",
      "For species chv, discontinuity in h/RT detected at Tmid = 1000\n",
      "\tValue computed using low-temperature polynomial:  107.505\n",
      "\tValue computed using high-temperature polynomial: 107.348\n"
     ]
    }
   ],
   "source": [
    "reac = ucr.experiments.Experiment(Path('ignition-delay-definition/20_in_00_mm_338K-865t-100x-24-Jan-17-1545.txt'), cti_file='./species.xml')\n",
    "rpt = reac.pressure_trace\n",
    "rpt.zeroed_time *= 1000\n",
    "# reac.ignition_delay += 0.5\n",
    "nonr = ucr.experiments.Experiment(Path('ignition-delay-definition/NR_20_in_00_mm_338K-865t-100x-16-Feb-17-1528.txt'), cti_file='./species.xml')\n",
    "npt = nonr.pressure_trace\n",
    "npt.zeroed_time *= 1000\n",
    "# npt.zeroed_time += 0.5"
   ]
  },
  {
   "cell_type": "code",
   "execution_count": 3,
   "metadata": {
    "collapsed": true
   },
   "outputs": [],
   "source": [
    "fig, pressure_ax = plt.subplots()\n",
    "pressure_ax.set_xlabel('Time, ms')\n",
    "pressure_ax.set_ylabel('Pressure, bar')\n",
    "pressure_ax.xaxis.set_major_locator(MaxNLocator(6))\n",
    "pressure_ax.xaxis.set_minor_locator(AutoMinorLocator(4))\n",
    "pressure_ax.yaxis.set_minor_locator(AutoMinorLocator(2))\n",
    "pressure_ax.plot(rpt.zeroed_time, rpt.pressure, label='Pressure')\n",
    "pressure_ax.plot(npt.zeroed_time, npt.pressure, label='Non-Reactive\\nPressure')\n",
    "\n",
    "dpdt_ax = pressure_ax.twinx()\n",
    "dpdt_max = np.argmax(rpt.derivative)\n",
    "dpdt_ax.set_ylabel('Time Derivative of Pressure, bar/ms')\n",
    "dpdt_ax.plot(rpt.zeroed_time[:dpdt_max], rpt.derivative[:dpdt_max]/1000, label='Time Derivative',\n",
    "             color=next(pressure_ax._get_lines.prop_cycler)['color'])\n",
    "dpdt_ax.yaxis.set_minor_locator(AutoMinorLocator(2))\n",
    "dpdt_ax.set_ylim(-0.25, 2.0)\n",
    "\n",
    "pressure_ax.axvline(x=0, color='k', ymax=0.4)\n",
    "pressure_ax.axvline(x=reac.ignition_delay, color='k')\n",
    "pressure_ax.annotate(r'$\\tau$', xy=(reac.ignition_delay/2, 20), xycoords='data', xytext=(0, 10), textcoords='offset points')\n",
    "pressure_ax.annotate('', xy=(0, 20), xycoords='data', xytext=(reac.ignition_delay, 20), textcoords='data',\n",
    "                     arrowprops={'arrowstyle': '<|-|>', 'shrinkA': 0, 'shrinkB': 0, 'fc': 'black'})\n",
    "pressure_ax.annotate('EOC', xy=(0, 25), xycoords='data')\n",
    "pressure_ax.annotate('', xy=(-6, 10), xycoords='data', xytext=(-12, 10), textcoords='data',\n",
    "                     arrowprops={'arrowstyle': '<|-', 'shrinkA': 0, 'shrinkB': 0, 'fc': 'black'})\n",
    "dpdt_ax.annotate('', xy=(-1, 1.0), xycoords='data', xytext=(12, 1.0), textcoords='data',\n",
    "                 arrowprops={'arrowstyle': '<|-', 'shrinkA': 0, 'shrinkB': 0, 'fc': 'black'})\n",
    "pressure_ax.set_ylim(0, 60)\n",
    "pressure_ax.set_xlim(-15, 40)\n",
    "pressure_ax.set_xlabel('Time, ms')\n",
    "pressure_ax.set_ylabel('Pressure, bar')\n",
    "\n",
    "lin_1, leg_1 = pressure_ax.get_legend_handles_labels()\n",
    "lin_2, leg_2 = dpdt_ax.get_legend_handles_labels()\n",
    "dpdt_ax_legend = dpdt_ax.legend(lin_1 + lin_2, leg_1 + leg_2, bbox_to_anchor=(0.3, 0.95))\n",
    "\n",
    "for leg in dpdt_ax_legend.legendHandles:\n",
    "    leg.set_linewidth(2.0)"
   ]
  },
  {
   "cell_type": "code",
   "execution_count": 4,
   "metadata": {
    "collapsed": true
   },
   "outputs": [],
   "source": [
    "fig.savefig('ignition_delay_definition.pgf', bbox_inches='tight')"
   ]
  }
 ],
 "metadata": {
  "kernelspec": {
   "display_name": "Python 3",
   "language": "python",
   "name": "python3"
  },
  "language_info": {
   "codemirror_mode": {
    "name": "ipython",
    "version": 3
   },
   "file_extension": ".py",
   "mimetype": "text/x-python",
   "name": "python",
   "nbconvert_exporter": "python",
   "pygments_lexer": "ipython3",
   "version": "3.5.2"
  }
 },
 "nbformat": 4,
 "nbformat_minor": 2
}
